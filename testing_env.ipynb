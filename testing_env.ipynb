{
 "metadata": {
  "language_info": {
   "codemirror_mode": {
    "name": "ipython",
    "version": 3
   },
   "file_extension": ".py",
   "mimetype": "text/x-python",
   "name": "python",
   "nbconvert_exporter": "python",
   "pygments_lexer": "ipython3",
   "version": "3.8.5"
  },
  "orig_nbformat": 2,
  "kernelspec": {
   "name": "python3",
   "display_name": "Python 3.8.5 64-bit ('crypto_tracker': conda)"
  },
  "metadata": {
   "interpreter": {
    "hash": "7a0a7648b0bc473f93ca967a381217bc31be58163beaa18df77c4d846c237fec"
   }
  },
  "interpreter": {
   "hash": "57f6f1ea985650b7d4a49b2197adc3eb3842ffa31974959c64a49ad329c3a70b"
  }
 },
 "nbformat": 4,
 "nbformat_minor": 2,
 "cells": [
  {
   "cell_type": "code",
   "execution_count": 1,
   "metadata": {},
   "outputs": [],
   "source": [
    "from website import coinmarketcap as cmc\n",
    "import pandas as pd\n",
    "import sqlite3"
   ]
  },
  {
   "cell_type": "code",
   "execution_count": 2,
   "metadata": {},
   "outputs": [],
   "source": [
    "data = pd.read_csv('sample_data.csv', date_parser=pd.to_datetime, parse_dates=['date'])"
   ]
  },
  {
   "cell_type": "code",
   "execution_count": 3,
   "metadata": {},
   "outputs": [
    {
     "output_type": "execute_result",
     "data": {
      "text/plain": [
       "        date type from_symbol to_symbol  price  quantity  fee\n",
       "0 2021-01-01    B         EUR       BTC  30000       0.5  0.2\n",
       "1 2021-01-02    B         EUR       ETH   1100       1.0  0.2\n",
       "2 2021-01-03    S         BTC       EUR  33000       0.3  0.2"
      ],
      "text/html": "<div>\n<style scoped>\n    .dataframe tbody tr th:only-of-type {\n        vertical-align: middle;\n    }\n\n    .dataframe tbody tr th {\n        vertical-align: top;\n    }\n\n    .dataframe thead th {\n        text-align: right;\n    }\n</style>\n<table border=\"1\" class=\"dataframe\">\n  <thead>\n    <tr style=\"text-align: right;\">\n      <th></th>\n      <th>date</th>\n      <th>type</th>\n      <th>from_symbol</th>\n      <th>to_symbol</th>\n      <th>price</th>\n      <th>quantity</th>\n      <th>fee</th>\n    </tr>\n  </thead>\n  <tbody>\n    <tr>\n      <th>0</th>\n      <td>2021-01-01</td>\n      <td>B</td>\n      <td>EUR</td>\n      <td>BTC</td>\n      <td>30000</td>\n      <td>0.5</td>\n      <td>0.2</td>\n    </tr>\n    <tr>\n      <th>1</th>\n      <td>2021-01-02</td>\n      <td>B</td>\n      <td>EUR</td>\n      <td>ETH</td>\n      <td>1100</td>\n      <td>1.0</td>\n      <td>0.2</td>\n    </tr>\n    <tr>\n      <th>2</th>\n      <td>2021-01-03</td>\n      <td>S</td>\n      <td>BTC</td>\n      <td>EUR</td>\n      <td>33000</td>\n      <td>0.3</td>\n      <td>0.2</td>\n    </tr>\n  </tbody>\n</table>\n</div>"
     },
     "metadata": {},
     "execution_count": 3
    }
   ],
   "source": [
    "data"
   ]
  },
  {
   "cell_type": "code",
   "execution_count": 46,
   "metadata": {},
   "outputs": [
    {
     "output_type": "execute_result",
     "data": {
      "text/plain": [
       "   id        date type from_symbol to_symbol  quantity    price  fee  user_id\n",
       "0   1  2021-01-01    B         EUR       BTC       0.5  30000.0  0.2        1\n",
       "1   2  2021-01-02    B         EUR       ETH       1.0   1100.0  0.2        1\n",
       "2   3  2021-01-03    S         BTC       EUR       0.3  33000.0  0.2        1"
      ],
      "text/html": "<div>\n<style scoped>\n    .dataframe tbody tr th:only-of-type {\n        vertical-align: middle;\n    }\n\n    .dataframe tbody tr th {\n        vertical-align: top;\n    }\n\n    .dataframe thead th {\n        text-align: right;\n    }\n</style>\n<table border=\"1\" class=\"dataframe\">\n  <thead>\n    <tr style=\"text-align: right;\">\n      <th></th>\n      <th>id</th>\n      <th>date</th>\n      <th>type</th>\n      <th>from_symbol</th>\n      <th>to_symbol</th>\n      <th>quantity</th>\n      <th>price</th>\n      <th>fee</th>\n      <th>user_id</th>\n    </tr>\n  </thead>\n  <tbody>\n    <tr>\n      <th>0</th>\n      <td>1</td>\n      <td>2021-01-01</td>\n      <td>B</td>\n      <td>EUR</td>\n      <td>BTC</td>\n      <td>0.5</td>\n      <td>30000.0</td>\n      <td>0.2</td>\n      <td>1</td>\n    </tr>\n    <tr>\n      <th>1</th>\n      <td>2</td>\n      <td>2021-01-02</td>\n      <td>B</td>\n      <td>EUR</td>\n      <td>ETH</td>\n      <td>1.0</td>\n      <td>1100.0</td>\n      <td>0.2</td>\n      <td>1</td>\n    </tr>\n    <tr>\n      <th>2</th>\n      <td>3</td>\n      <td>2021-01-03</td>\n      <td>S</td>\n      <td>BTC</td>\n      <td>EUR</td>\n      <td>0.3</td>\n      <td>33000.0</td>\n      <td>0.2</td>\n      <td>1</td>\n    </tr>\n  </tbody>\n</table>\n</div>"
     },
     "metadata": {},
     "execution_count": 46
    }
   ],
   "source": [
    "query = \"SELECT * FROM 'Transaction'\"\n",
    "\n",
    "con = sqlite3.connect(\"website/database.db\")\n",
    "cur = con.cursor()\n",
    "cur.execute(query)\n",
    "res = cur.fetchall()\n",
    "cols = [header[0] for header in cur.description]\n",
    "df = pd.DataFrame(res, columns=cols)\n",
    "df"
   ]
  },
  {
   "cell_type": "code",
   "execution_count": null,
   "metadata": {},
   "outputs": [],
   "source": []
  },
  {
   "cell_type": "code",
   "execution_count": null,
   "metadata": {},
   "outputs": [],
   "source": []
  }
 ]
}